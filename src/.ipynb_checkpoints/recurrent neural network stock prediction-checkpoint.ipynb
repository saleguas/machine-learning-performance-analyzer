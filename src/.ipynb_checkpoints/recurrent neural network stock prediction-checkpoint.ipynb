{
 "cells": [
  {
   "cell_type": "code",
   "execution_count": 22,
   "metadata": {},
   "outputs": [],
   "source": [
    "import pandas as pd\n",
    "import matplotlib.pyplot as plt\n",
    "import numpy as np\n",
    "from sklearn.preprocessing import MinMaxScaler\n",
    "%matplotlib inline\n",
    "from keras.models import Sequential\n",
    "from keras.layers import Dense\n",
    "import keras.backend as K\n",
    "from keras.callbacks import EarlyStopping\n",
    "from keras.layers import LSTM\n",
    "from sklearn.model_selection import train_test_split\n"
   ]
  },
  {
   "cell_type": "code",
   "execution_count": 4,
   "metadata": {},
   "outputs": [],
   "source": [
    "#Generates the a\n",
    "def generateGraph(train, test, title, xlabel, ylabel, legend, fileTitle):\n",
    "    ax, fig = plt.subplots(figsize=(10, 8))\n",
    "    fig.plot(train)\n",
    "    fig.plot(test)\n",
    "    fig.set_xlabel(xlabel)\n",
    "    fig.set_ylabel(ylabel)\n",
    "    fig.set_title('{} - {}'.format(title, fileTitle))\n",
    "    fig.legend(legend)\n",
    "    ax.savefig('./graphs/{}.png'.format(fileTitle))\n",
    "    "
   ]
  },
  {
   "cell_type": "code",
   "execution_count": 28,
   "metadata": {},
   "outputs": [],
   "source": [
    "# Reads in the csv file with the given path. If split is 0, then it's assumed not to be analyzing and instead predicting future values. \n",
    "def readData(path, split):\n",
    "    df = pd.read_csv(path)\n",
    "    print(df.head())\n",
    "    print(\"------------------------------------------------------------------\")\n",
    "    df['Date'] = pd.to_datetime(df['Date'])\n",
    "    df = df.set_index('Date')\n",
    "    df = df['Close']\n",
    "    if split > 0:\n",
    "        train = df.iloc[:-split]\n",
    "        test = df.iloc[-split:]\n",
    "        dates = df.index[-split+1:]\n",
    "        return train, test, dates\n",
    "    else:\n",
    "        train = df.shift(future).dropna()\n",
    "        test = df.shift(-future).dropna()\n",
    "        dates = pd.date_range(df.index[-1], future)\n",
    "        return train, test, dates\n"
   ]
  },
  {
   "cell_type": "code",
   "execution_count": 6,
   "metadata": {},
   "outputs": [],
   "source": [
    "def scaleData(train, test):\n",
    "    sc= MinMaxScaler()\n",
    "    train_sc = sc.fit_transform(train.values.reshape(-1, 1))\n",
    "    test_sc = sc.transform(test.values.reshape(-1, 1))\n",
    "    x_train = train_sc[:-1]\n",
    "    y_train = train_sc[1:]\n",
    "\n",
    "    x_test = test_sc[:-1]\n",
    "    y_test = test_sc[1:]\n",
    "    \n",
    "    return x_train, y_train, x_test, y_test, sc"
   ]
  },
  {
   "cell_type": "code",
   "execution_count": 7,
   "metadata": {},
   "outputs": [],
   "source": [
    "def createModel(x_train, y_train):\n",
    "    x_train_t = x_train[:, None]\n",
    "    \n",
    "    K.clear_session()\n",
    "    \n",
    "    early_stop = EarlyStopping(monitor='loss', patience=1, verbose=1)\n",
    "    model = Sequential()\n",
    "    model.add(LSTM(6, input_shape=(1, 1)))\n",
    "    model.add(Dense(1))\n",
    "    model.compile(loss='mean_squared_error', optimizer='adam')\n",
    "    model.fit(x_train_t, y_train, epochs=100, batch_size=16, verbose=1, callbacks=[early_stop])\n",
    "    return model"
   ]
  },
  {
   "cell_type": "code",
   "execution_count": 8,
   "metadata": {},
   "outputs": [],
   "source": [
    "def saveSheet(y_pred, y_test, dates, sc, fileName):\n",
    "    df = pd.DataFrame()\n",
    "    y_pred = sc.inverse_transform(y_pred)\n",
    "    y_test = sc.inverse_transform(y_test)\n",
    "    df['Date'] = dates\n",
    "    df['Predicted Close'] = y_pred.round(2)\n",
    "    df['Actual Close'] = y_test.round(2)\n",
    "    df['% error'] = ((y_pred - y_test) / y_test*100).round(2)\n",
    "    print(df)\n",
    "    df.to_csv('./results/{}.csv'.format(fileName))"
   ]
  },
  {
   "cell_type": "code",
   "execution_count": 9,
   "metadata": {},
   "outputs": [],
   "source": [
    "def analyze(path, split, fileName):\n",
    "    train, test, dates = readData(path, split)\n",
    "    generateGraph(train,\n",
    "                  test,\n",
    "                  'Training and Testing Data split',\n",
    "                  'Dates',\n",
    "                  'Closing value',\n",
    "                  ['train', 'test'],\n",
    "                  '{}_train_test_split'.format(fileName)\n",
    "                 )\n",
    "    x_train, y_train, x_test, y_test, sc = scaleData(train, test)\n",
    "    model = createModel(x_train, y_train)\n",
    "    x_test_t = x_test[:, None]\n",
    "    y_pred = model.predict(x_test_t)\n",
    "    generateGraph(y_test,\n",
    "                  y_pred,\n",
    "                  'Model results vs Actual value',\n",
    "                  'Future days',\n",
    "                  'Closing Value',\n",
    "                  ['actual', 'predicted'],\n",
    "                  '{}_results'.format(fileName)\n",
    "                 )\n",
    "    print(y_pred.shape, y_test.shape, dates.shape)\n",
    "    saveSheet(y_pred, y_test, dates, sc, fileName)\n",
    "    \n",
    "    \n"
   ]
  },
  {
   "cell_type": "code",
   "execution_count": 20,
   "metadata": {},
   "outputs": [],
   "source": [
    "def predict(path, future, fileName):\n",
    "    train, test, dates = readData(path, 0, future)\n",
    "    "
   ]
  },
  {
   "cell_type": "code",
   "execution_count": 11,
   "metadata": {},
   "outputs": [],
   "source": [
    "def runAnalyze():\n",
    "    import os\n",
    "    for filename in os.listdir('./data'):\n",
    "        analyze('./data/{}'.format(filename), 180, filename)"
   ]
  },
  {
   "cell_type": "code",
   "execution_count": 30,
   "metadata": {},
   "outputs": [
    {
     "name": "stdout",
     "output_type": "stream",
     "text": [
      "         Date   Open   High    Low    Close       Volume  Ex-Dividend  \\\n",
      "0  2012-05-18  42.05  45.00  38.00  38.2318  573576400.0          0.0   \n",
      "1  2012-05-21  36.53  36.66  33.00  34.0300  168192700.0          0.0   \n",
      "2  2012-05-22  32.61  33.59  30.94  31.0000  101786600.0          0.0   \n",
      "3  2012-05-23  31.37  32.50  31.36  32.0000   73600000.0          0.0   \n",
      "4  2012-05-24  32.95  33.21  31.77  33.0300   50237200.0          0.0   \n",
      "\n",
      "   Split Ratio  Adj. Open  Adj. High  Adj. Low  Adj. Close  Adj. Volume  \n",
      "0          1.0      42.05      45.00     38.00     38.2318  573576400.0  \n",
      "1          1.0      36.53      36.66     33.00     34.0300  168192700.0  \n",
      "2          1.0      32.61      33.59     30.94     31.0000  101786600.0  \n",
      "3          1.0      31.37      32.50     31.36     32.0000   73600000.0  \n",
      "4          1.0      32.95      33.21     31.77     33.0300   50237200.0  \n",
      "------------------------------------------------------------------\n",
      "Date\n",
      "2012-05-23     38.2318\n",
      "2012-05-24     34.0300\n",
      "2012-05-25     31.0000\n",
      "2012-05-29     32.0000\n",
      "2012-05-30     33.0300\n",
      "                ...   \n",
      "2018-03-21    185.0900\n",
      "2018-03-22    172.5600\n",
      "2018-03-23    168.1500\n",
      "2018-03-26    169.3900\n",
      "2018-03-27    164.8900\n",
      "Name: Close, Length: 1469, dtype: float64\n",
      "------------------------------------------------------------------\n",
      "Date\n",
      "2012-05-18     32.00\n",
      "2012-05-21     33.03\n",
      "2012-05-22     31.91\n",
      "2012-05-23     28.84\n",
      "2012-05-24     28.19\n",
      "               ...  \n",
      "2018-03-16    169.39\n",
      "2018-03-19    164.89\n",
      "2018-03-20    159.39\n",
      "2018-03-21    160.06\n",
      "2018-03-22    152.19\n",
      "Name: Close, Length: 1469, dtype: float64\n",
      "------------------------------------------------------------------\n",
      "DatetimeIndex([], dtype='datetime64[ns]', freq='D')\n"
     ]
    }
   ],
   "source": [
    "predict('./data/WIKI_FB.csv', 3, 'WIKI_FB')"
   ]
  },
  {
   "cell_type": "code",
   "execution_count": 31,
   "metadata": {},
   "outputs": [
    {
     "data": {
      "text/html": [
       "<div>\n",
       "<style scoped>\n",
       "    .dataframe tbody tr th:only-of-type {\n",
       "        vertical-align: middle;\n",
       "    }\n",
       "\n",
       "    .dataframe tbody tr th {\n",
       "        vertical-align: top;\n",
       "    }\n",
       "\n",
       "    .dataframe thead th {\n",
       "        text-align: right;\n",
       "    }\n",
       "</style>\n",
       "<table border=\"1\" class=\"dataframe\">\n",
       "  <thead>\n",
       "    <tr style=\"text-align: right;\">\n",
       "      <th></th>\n",
       "      <th>Original</th>\n",
       "      <th>shift1</th>\n",
       "      <th>shift-1</th>\n",
       "    </tr>\n",
       "  </thead>\n",
       "  <tbody>\n",
       "    <tr>\n",
       "      <td>0</td>\n",
       "      <td>1</td>\n",
       "      <td>NaN</td>\n",
       "      <td>2.0</td>\n",
       "    </tr>\n",
       "    <tr>\n",
       "      <td>1</td>\n",
       "      <td>2</td>\n",
       "      <td>1.0</td>\n",
       "      <td>3.0</td>\n",
       "    </tr>\n",
       "    <tr>\n",
       "      <td>2</td>\n",
       "      <td>3</td>\n",
       "      <td>2.0</td>\n",
       "      <td>4.0</td>\n",
       "    </tr>\n",
       "    <tr>\n",
       "      <td>3</td>\n",
       "      <td>4</td>\n",
       "      <td>3.0</td>\n",
       "      <td>5.0</td>\n",
       "    </tr>\n",
       "    <tr>\n",
       "      <td>4</td>\n",
       "      <td>5</td>\n",
       "      <td>4.0</td>\n",
       "      <td>NaN</td>\n",
       "    </tr>\n",
       "  </tbody>\n",
       "</table>\n",
       "</div>"
      ],
      "text/plain": [
       "   Original  shift1  shift-1\n",
       "0         1     NaN      2.0\n",
       "1         2     1.0      3.0\n",
       "2         3     2.0      4.0\n",
       "3         4     3.0      5.0\n",
       "4         5     4.0      NaN"
      ]
     },
     "execution_count": 31,
     "metadata": {},
     "output_type": "execute_result"
    }
   ],
   "source": [
    "d = pd.DataFrame()\n",
    "d['Original'] = [1, 2, 3, 4, 5]\n",
    "d['shift1'] = d['Original'].shift(1)\n",
    "d['shift-1'] = d['Original'].shift(-1)\n",
    "d"
   ]
  },
  {
   "cell_type": "code",
   "execution_count": null,
   "metadata": {},
   "outputs": [],
   "source": []
  }
 ],
 "metadata": {
  "kernelspec": {
   "display_name": "Python 3",
   "language": "python",
   "name": "python3"
  },
  "language_info": {
   "codemirror_mode": {
    "name": "ipython",
    "version": 3
   },
   "file_extension": ".py",
   "mimetype": "text/x-python",
   "name": "python",
   "nbconvert_exporter": "python",
   "pygments_lexer": "ipython3",
   "version": "3.6.8"
  }
 },
 "nbformat": 4,
 "nbformat_minor": 4
}
